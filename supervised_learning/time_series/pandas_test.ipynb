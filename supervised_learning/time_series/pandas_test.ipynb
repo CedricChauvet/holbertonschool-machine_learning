{
 "cells": [
  {
   "cell_type": "code",
   "execution_count": 1,
   "metadata": {},
   "outputs": [],
   "source": [
    "import pandas as pd"
   ]
  },
  {
   "cell_type": "code",
   "execution_count": 2,
   "metadata": {},
   "outputs": [],
   "source": [
    "df = pd.read_csv('bitstampUSD_1-min_data_2012-01-01_to_2020-04-22.csv')"
   ]
  },
  {
   "cell_type": "code",
   "execution_count": 3,
   "metadata": {},
   "outputs": [
    {
     "name": "stdout",
     "output_type": "stream",
     "text": [
      "Open                 float64\n",
      "High                 float64\n",
      "Low                  float64\n",
      "Close                float64\n",
      "Volume_(BTC)         float64\n",
      "Volume_(Currency)    float64\n",
      "Weighted_Price       float64\n",
      "dtype: object\n"
     ]
    }
   ],
   "source": [
    "df[\"Timestamp\"] = pd.to_datetime(df[\"Timestamp\"], unit='s').dt.strftime('%Y/%m/%d - %H:%M')\n",
    "# give date as index\n",
    "df.set_index(\"Timestamp\", inplace=True)\n",
    "print(df.dtypes)"
   ]
  },
  {
   "cell_type": "code",
   "execution_count": 8,
   "metadata": {},
   "outputs": [
    {
     "name": "stdout",
     "output_type": "stream",
     "text": [
      "                    Open  High   Low  Close  Volume_(BTC)  Volume_(Currency)  \\\n",
      "Timestamp                                                                      \n",
      "2011/12/31 - 07:52  4.39  4.39  4.39   4.39      0.455581                2.0   \n",
      "2011/12/31 - 07:53   NaN   NaN   NaN    NaN           NaN                NaN   \n",
      "2011/12/31 - 07:54   NaN   NaN   NaN    NaN           NaN                NaN   \n",
      "2011/12/31 - 07:55   NaN   NaN   NaN    NaN           NaN                NaN   \n",
      "2011/12/31 - 07:56   NaN   NaN   NaN    NaN           NaN                NaN   \n",
      "\n",
      "                    Weighted_Price  \n",
      "Timestamp                           \n",
      "2011/12/31 - 07:52            4.39  \n",
      "2011/12/31 - 07:53             NaN  \n",
      "2011/12/31 - 07:54             NaN  \n",
      "2011/12/31 - 07:55             NaN  \n",
      "2011/12/31 - 07:56             NaN  \n",
      "first 2011/12/31 - 07:52\n",
      "last 2020/04/22 - 00:00\n"
     ]
    }
   ],
   "source": [
    "print(df.head())\n",
    "print(\"first\", df.index[0])\n",
    "print(\"last\", df.index[-1])\n",
    "result = df.loc['2017-01':'2020-01']\n",
    "print(result.shape)"
   ]
  }
 ],
 "metadata": {
  "kernelspec": {
   "display_name": "tf",
   "language": "python",
   "name": "python3"
  },
  "language_info": {
   "codemirror_mode": {
    "name": "ipython",
    "version": 3
   },
   "file_extension": ".py",
   "mimetype": "text/x-python",
   "name": "python",
   "nbconvert_exporter": "python",
   "pygments_lexer": "ipython3",
   "version": "3.9.19"
  }
 },
 "nbformat": 4,
 "nbformat_minor": 2
}
